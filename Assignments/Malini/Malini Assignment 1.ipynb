{
 "cells": [
  {
   "cell_type": "code",
   "execution_count": 1,
   "id": "4dccf465",
   "metadata": {},
   "outputs": [],
   "source": [
    "s = \"Hi I am Malini!\""
   ]
  },
  {
   "cell_type": "code",
   "execution_count": 2,
   "id": "82ec3f6c",
   "metadata": {},
   "outputs": [],
   "source": [
    "s=s.split()"
   ]
  },
  {
   "cell_type": "code",
   "execution_count": 3,
   "id": "b2671f78",
   "metadata": {},
   "outputs": [
    {
     "data": {
      "text/plain": [
       "['Hi', 'I', 'am', 'Malini!']"
      ]
     },
     "execution_count": 3,
     "metadata": {},
     "output_type": "execute_result"
    }
   ],
   "source": [
    "s"
   ]
  },
  {
   "cell_type": "code",
   "execution_count": 4,
   "id": "67aaaafe",
   "metadata": {},
   "outputs": [],
   "source": [
    "planet = \"Mars\"\n",
    "diameter = 12345"
   ]
  },
  {
   "cell_type": "code",
   "execution_count": 5,
   "id": "8338c670",
   "metadata": {},
   "outputs": [
    {
     "data": {
      "text/plain": [
       "\"The diameter of 'Mars' is '12345' kilometers\""
      ]
     },
     "execution_count": 5,
     "metadata": {},
     "output_type": "execute_result"
    }
   ],
   "source": [
    "(f\"The diameter of '{planet}' is '{diameter}' kilometers\")"
   ]
  },
  {
   "cell_type": "code",
   "execution_count": 6,
   "id": "01a7eff6",
   "metadata": {},
   "outputs": [],
   "source": [
    "d = {'k1':[1,2,3,{'trichy':['oh','man','inception',{'target':[1,2,3,'Haii']}]}]}"
   ]
  },
  {
   "cell_type": "code",
   "execution_count": 7,
   "id": "168b9be7",
   "metadata": {},
   "outputs": [
    {
     "data": {
      "text/plain": [
       "'Haii'"
      ]
     },
     "execution_count": 7,
     "metadata": {},
     "output_type": "execute_result"
    }
   ],
   "source": [
    "d['k1'][3]['trichy'][3]['target'][3]"
   ]
  },
  {
   "cell_type": "code",
   "execution_count": 8,
   "id": "6b0e6f11",
   "metadata": {},
   "outputs": [],
   "source": [
    "import numpy as np"
   ]
  },
  {
   "cell_type": "code",
   "execution_count": 10,
   "id": "adb5b5c2",
   "metadata": {},
   "outputs": [
    {
     "data": {
      "text/plain": [
       "array([0., 0., 0., 0., 0., 0., 0.])"
      ]
     },
     "execution_count": 10,
     "metadata": {},
     "output_type": "execute_result"
    }
   ],
   "source": [
    "np.zeros(7)"
   ]
  },
  {
   "cell_type": "code",
   "execution_count": 12,
   "id": "87e589bd",
   "metadata": {},
   "outputs": [
    {
     "data": {
      "text/plain": [
       "array([2., 2., 2., 2., 2., 2., 2., 2., 2., 2.])"
      ]
     },
     "execution_count": 12,
     "metadata": {},
     "output_type": "execute_result"
    }
   ],
   "source": [
    "np.ones(10)*2"
   ]
  },
  {
   "cell_type": "code",
   "execution_count": 13,
   "id": "8202a465",
   "metadata": {},
   "outputs": [
    {
     "data": {
      "text/plain": [
       "array([20, 24, 28, 32, 36])"
      ]
     },
     "execution_count": 13,
     "metadata": {},
     "output_type": "execute_result"
    }
   ],
   "source": [
    "np.arange(20,40,4)"
   ]
  },
  {
   "cell_type": "code",
   "execution_count": 17,
   "id": "4ae1151f",
   "metadata": {},
   "outputs": [],
   "source": [
    "value=[1,2,3,4,5,6,7,8,9]"
   ]
  },
  {
   "cell_type": "code",
   "execution_count": 18,
   "id": "b1fecc6e",
   "metadata": {},
   "outputs": [],
   "source": [
    "value=np.array(value)"
   ]
  },
  {
   "cell_type": "code",
   "execution_count": 19,
   "id": "c3ba5b76",
   "metadata": {},
   "outputs": [
    {
     "data": {
      "text/plain": [
       "array([[1, 2, 3],\n",
       "       [4, 5, 6],\n",
       "       [7, 8, 9]])"
      ]
     },
     "execution_count": 19,
     "metadata": {},
     "output_type": "execute_result"
    }
   ],
   "source": [
    "value.reshape(3,3)"
   ]
  },
  {
   "cell_type": "code",
   "execution_count": 21,
   "id": "7f017d7f",
   "metadata": {},
   "outputs": [],
   "source": [
    "a = np.array([1, 2, 3, 4, 5])"
   ]
  },
  {
   "cell_type": "code",
   "execution_count": 22,
   "id": "b4232f9b",
   "metadata": {},
   "outputs": [],
   "source": [
    "b = np.array([6, 7, 8, 9, 10])"
   ]
  },
  {
   "cell_type": "code",
   "execution_count": 23,
   "id": "5105fe36",
   "metadata": {},
   "outputs": [
    {
     "data": {
      "text/plain": [
       "array([ 1,  2,  3,  4,  5,  6,  7,  8,  9, 10])"
      ]
     },
     "execution_count": 23,
     "metadata": {},
     "output_type": "execute_result"
    }
   ],
   "source": [
    "np.concatenate ((a,b))"
   ]
  },
  {
   "cell_type": "code",
   "execution_count": 24,
   "id": "5fbf78e5",
   "metadata": {},
   "outputs": [],
   "source": [
    "import pandas as pd"
   ]
  },
  {
   "cell_type": "code",
   "execution_count": 25,
   "id": "f362ea89",
   "metadata": {},
   "outputs": [],
   "source": [
    "d={'a':1 , 'b':2 , 'c':3}"
   ]
  },
  {
   "cell_type": "code",
   "execution_count": 26,
   "id": "a811542f",
   "metadata": {},
   "outputs": [],
   "source": [
    "label=['num1','num2','num3','num4']"
   ]
  },
  {
   "cell_type": "code",
   "execution_count": 27,
   "id": "156c2e12",
   "metadata": {},
   "outputs": [],
   "source": [
    "c=pd.DataFrame(d,index=label)"
   ]
  },
  {
   "cell_type": "code",
   "execution_count": 28,
   "id": "1022a904",
   "metadata": {},
   "outputs": [
    {
     "data": {
      "text/html": [
       "<div>\n",
       "<style scoped>\n",
       "    .dataframe tbody tr th:only-of-type {\n",
       "        vertical-align: middle;\n",
       "    }\n",
       "\n",
       "    .dataframe tbody tr th {\n",
       "        vertical-align: top;\n",
       "    }\n",
       "\n",
       "    .dataframe thead th {\n",
       "        text-align: right;\n",
       "    }\n",
       "</style>\n",
       "<table border=\"1\" class=\"dataframe\">\n",
       "  <thead>\n",
       "    <tr style=\"text-align: right;\">\n",
       "      <th></th>\n",
       "      <th>a</th>\n",
       "      <th>b</th>\n",
       "      <th>c</th>\n",
       "    </tr>\n",
       "  </thead>\n",
       "  <tbody>\n",
       "    <tr>\n",
       "      <th>num1</th>\n",
       "      <td>1</td>\n",
       "      <td>2</td>\n",
       "      <td>3</td>\n",
       "    </tr>\n",
       "    <tr>\n",
       "      <th>num2</th>\n",
       "      <td>1</td>\n",
       "      <td>2</td>\n",
       "      <td>3</td>\n",
       "    </tr>\n",
       "    <tr>\n",
       "      <th>num3</th>\n",
       "      <td>1</td>\n",
       "      <td>2</td>\n",
       "      <td>3</td>\n",
       "    </tr>\n",
       "  </tbody>\n",
       "</table>\n",
       "</div>"
      ],
      "text/plain": [
       "      a  b  c\n",
       "num1  1  2  3\n",
       "num2  1  2  3\n",
       "num3  1  2  3"
      ]
     },
     "execution_count": 28,
     "metadata": {},
     "output_type": "execute_result"
    }
   ],
   "source": [
    "c.iloc[:3]"
   ]
  },
  {
   "cell_type": "code",
   "execution_count": 29,
   "id": "1c13e4e4",
   "metadata": {},
   "outputs": [],
   "source": [
    "import pandas as pd"
   ]
  },
  {
   "cell_type": "code",
   "execution_count": 30,
   "id": "893e90ab",
   "metadata": {},
   "outputs": [],
   "source": [
    "import numpy as np"
   ]
  },
  {
   "cell_type": "code",
   "execution_count": 31,
   "id": "e8cc0d57",
   "metadata": {},
   "outputs": [],
   "source": [
    "lists = [[1, 'aaa', 11], [2, 'bbb', 22], [3, 'ccc', 33]]"
   ]
  },
  {
   "cell_type": "code",
   "execution_count": 32,
   "id": "c88ec630",
   "metadata": {},
   "outputs": [],
   "source": [
    "arr=np.array(lists)"
   ]
  },
  {
   "cell_type": "code",
   "execution_count": 33,
   "id": "2069fc33",
   "metadata": {},
   "outputs": [],
   "source": [
    "df=pd.DataFrame(arr)"
   ]
  },
  {
   "cell_type": "code",
   "execution_count": 34,
   "id": "cada2af1",
   "metadata": {},
   "outputs": [
    {
     "data": {
      "text/html": [
       "<div>\n",
       "<style scoped>\n",
       "    .dataframe tbody tr th:only-of-type {\n",
       "        vertical-align: middle;\n",
       "    }\n",
       "\n",
       "    .dataframe tbody tr th {\n",
       "        vertical-align: top;\n",
       "    }\n",
       "\n",
       "    .dataframe thead th {\n",
       "        text-align: right;\n",
       "    }\n",
       "</style>\n",
       "<table border=\"1\" class=\"dataframe\">\n",
       "  <thead>\n",
       "    <tr style=\"text-align: right;\">\n",
       "      <th></th>\n",
       "      <th>0</th>\n",
       "      <th>1</th>\n",
       "      <th>2</th>\n",
       "    </tr>\n",
       "  </thead>\n",
       "  <tbody>\n",
       "    <tr>\n",
       "      <th>0</th>\n",
       "      <td>1</td>\n",
       "      <td>aaa</td>\n",
       "      <td>11</td>\n",
       "    </tr>\n",
       "    <tr>\n",
       "      <th>1</th>\n",
       "      <td>2</td>\n",
       "      <td>bbb</td>\n",
       "      <td>22</td>\n",
       "    </tr>\n",
       "    <tr>\n",
       "      <th>2</th>\n",
       "      <td>3</td>\n",
       "      <td>ccc</td>\n",
       "      <td>33</td>\n",
       "    </tr>\n",
       "  </tbody>\n",
       "</table>\n",
       "</div>"
      ],
      "text/plain": [
       "   0    1   2\n",
       "0  1  aaa  11\n",
       "1  2  bbb  22\n",
       "2  3  ccc  33"
      ]
     },
     "execution_count": 34,
     "metadata": {},
     "output_type": "execute_result"
    }
   ],
   "source": [
    "df"
   ]
  },
  {
   "cell_type": "code",
   "execution_count": null,
   "id": "c05c85a1",
   "metadata": {},
   "outputs": [],
   "source": []
  }
 ],
 "metadata": {
  "kernelspec": {
   "display_name": "Python 3 (ipykernel)",
   "language": "python",
   "name": "python3"
  },
  "language_info": {
   "codemirror_mode": {
    "name": "ipython",
    "version": 3
   },
   "file_extension": ".py",
   "mimetype": "text/x-python",
   "name": "python",
   "nbconvert_exporter": "python",
   "pygments_lexer": "ipython3",
   "version": "3.7.4"
  }
 },
 "nbformat": 4,
 "nbformat_minor": 5
}
