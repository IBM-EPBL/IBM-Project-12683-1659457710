{
  "nbformat": 4,
  "nbformat_minor": 0,
  "metadata": {
    "colab": {
      "provenance": []
    },
    "kernelspec": {
      "name": "python3",
      "display_name": "Python 3"
    },
    "language_info": {
      "name": "python"
    }
  },
  "cells": [
    {
      "cell_type": "code",
      "execution_count": null,
      "metadata": {
        "colab": {
          "base_uri": "https://localhost:8080/"
        },
        "id": "6oqL2kBxnGew",
        "outputId": "f0f4bcc3-f5e0-4063-b386-1479c2c17c73"
      },
      "outputs": [
        {
          "output_type": "stream",
          "name": "stdout",
          "text": [
            "unzip:  cannot find or open /content/dataset.zip, /content/dataset.zip.zip or /content/dataset.zip.ZIP.\n"
          ]
        }
      ],
      "source": [
        "!unzip '/content/dataset.zip'"
      ]
    },
    {
      "cell_type": "code",
      "source": [
        "#importing image data generator library"
      ],
      "metadata": {
        "id": "GebQYmwypPES"
      },
      "execution_count": null,
      "outputs": []
    },
    {
      "cell_type": "code",
      "source": [
        "from tensorflow.keras.preprocessing.image import ImageDataGenerator"
      ],
      "metadata": {
        "id": "Xf7LzPuNpUoR"
      },
      "execution_count": null,
      "outputs": []
    },
    {
      "cell_type": "code",
      "source": [
        "#Configuring image Data Generator Class\n",
        "\n",
        "#Setting Parameter for Image Augmentation for training data\n",
        "\n",
        "train_datagen = ImageDataGenerator(rescale = 1./255, shear_range = 0.2, zoom_range = 0.2, horizontal_flip = True)\n",
        "\n",
        "#Image Data Augmentation for testing data\n",
        "\n",
        "test_datagen = ImageDataGenerator(rescale = 1./255)"
      ],
      "metadata": {
        "id": "xZETfsKKpXjJ"
      },
      "execution_count": null,
      "outputs": []
    },
    {
      "cell_type": "code",
      "source": [
        "#Performing data augmentation to train data\n",
        "\n",
        "x_train = train_datagen.flow_from_directory('/content/drive/MyDrive/dataset/train_set', target_size = (64,64), batch_size = 5, color_mode = 'rgb', class_mode = 'categorical')\n",
        "\n",
        "#performing data augmentation to test data\n",
        "\n",
        "x_test = test_datagen.flow_from_directory('/content/drive/MyDrive/dataset/test_set', target_size = (64,64), batch_size = 5, color_mode = 'rgb', class_mode = 'categorical')"
      ],
      "metadata": {
        "colab": {
          "base_uri": "https://localhost:8080/"
        },
        "id": "QQbnr5X2pa0u",
        "outputId": "c1d61d6c-5364-418d-fccd-9e249bcfe131"
      },
      "execution_count": 6,
      "outputs": [
        {
          "output_type": "stream",
          "name": "stdout",
          "text": [
            "Found 676 images belonging to 4 classes.\n",
            "Found 198 images belonging to 4 classes.\n"
          ]
        }
      ]
    },
    {
      "cell_type": "code",
      "source": [
        "import numpy as np\n",
        "import tensorflow\n",
        "from tensorflow.keras.models import Sequential\n",
        "from tensorflow.keras.layers import Dense,Conv2D,MaxPooling2D,Flatten"
      ],
      "metadata": {
        "id": "iFq6s8fRpe8K"
      },
      "execution_count": 7,
      "outputs": []
    },
    {
      "cell_type": "code",
      "source": [
        "model = Sequential()\n",
        "\n",
        "# First convolution layer and pooling\n",
        "model.add(Conv2D(32,(3,3),input_shape=(64,64,3),activation='relu'))\n",
        "model.add(MaxPooling2D(pool_size=(2,2)))\n",
        "\n",
        "#Second convolution layer and pooling\n",
        "model.add(Conv2D(32,(3,3),activation='relu'))\n",
        "model.add(MaxPooling2D(pool_size=(2,2)))\n",
        "\n",
        "#Flattening the layers\n",
        "model.add(Flatten())\n",
        "\n",
        "#Adding Dense Layers\n",
        "model.add(Dense(units=128,activation='relu'))\n",
        "model.add(Dense(units=4,activation='softmax'))"
      ],
      "metadata": {
        "id": "qr9H0ltzudCO"
      },
      "execution_count": 8,
      "outputs": []
    },
    {
      "cell_type": "code",
      "source": [
        "model.summary()"
      ],
      "metadata": {
        "colab": {
          "base_uri": "https://localhost:8080/"
        },
        "id": "YT6GMseZuqmg",
        "outputId": "28acf356-4429-4f0e-e53c-040e60cefa6f"
      },
      "execution_count": 9,
      "outputs": [
        {
          "output_type": "stream",
          "name": "stdout",
          "text": [
            "Model: \"sequential\"\n",
            "_________________________________________________________________\n",
            " Layer (type)                Output Shape              Param #   \n",
            "=================================================================\n",
            " conv2d (Conv2D)             (None, 62, 62, 32)        896       \n",
            "                                                                 \n",
            " max_pooling2d (MaxPooling2D  (None, 31, 31, 32)       0         \n",
            " )                                                               \n",
            "                                                                 \n",
            " conv2d_1 (Conv2D)           (None, 29, 29, 32)        9248      \n",
            "                                                                 \n",
            " max_pooling2d_1 (MaxPooling  (None, 14, 14, 32)       0         \n",
            " 2D)                                                             \n",
            "                                                                 \n",
            " flatten (Flatten)           (None, 6272)              0         \n",
            "                                                                 \n",
            " dense (Dense)               (None, 128)               802944    \n",
            "                                                                 \n",
            " dense_1 (Dense)             (None, 4)                 516       \n",
            "                                                                 \n",
            "=================================================================\n",
            "Total params: 813,604\n",
            "Trainable params: 813,604\n",
            "Non-trainable params: 0\n",
            "_________________________________________________________________\n"
          ]
        }
      ]
    },
    {
      "cell_type": "code",
      "source": [
        "model.compile(optimizer='adam', loss='categorical_crossentropy', metrics=['accuracy'])"
      ],
      "metadata": {
        "id": "iqEidTIzuuDO"
      },
      "execution_count": 10,
      "outputs": []
    },
    {
      "cell_type": "code",
      "source": [
        "model.fit_generator(generator=x_train,steps_per_epoch=len(x_train),epochs=20,validation_data=x_test,validation_steps=len(x_test))"
      ],
      "metadata": {
        "colab": {
          "base_uri": "https://localhost:8080/"
        },
        "id": "-CZOsEL0vIDN",
        "outputId": "0c138ea7-d1ba-4ffe-a0a7-a258e953349a"
      },
      "execution_count": 11,
      "outputs": [
        {
          "output_type": "stream",
          "name": "stderr",
          "text": [
            "/usr/local/lib/python3.7/dist-packages/ipykernel_launcher.py:1: UserWarning: `Model.fit_generator` is deprecated and will be removed in a future version. Please use `Model.fit`, which supports generators.\n",
            "  \"\"\"Entry point for launching an IPython kernel.\n"
          ]
        },
        {
          "output_type": "stream",
          "name": "stdout",
          "text": [
            "Epoch 1/20\n",
            "136/136 [==============================] - 177s 1s/step - loss: 1.1911 - accuracy: 0.4630 - val_loss: 1.1972 - val_accuracy: 0.5909\n",
            "Epoch 2/20\n",
            "136/136 [==============================] - 39s 287ms/step - loss: 0.8966 - accuracy: 0.6139 - val_loss: 1.0109 - val_accuracy: 0.6061\n",
            "Epoch 3/20\n",
            "136/136 [==============================] - 39s 288ms/step - loss: 0.7189 - accuracy: 0.7175 - val_loss: 0.7637 - val_accuracy: 0.7222\n",
            "Epoch 4/20\n",
            "136/136 [==============================] - 44s 321ms/step - loss: 0.6661 - accuracy: 0.7485 - val_loss: 0.6574 - val_accuracy: 0.7879\n",
            "Epoch 5/20\n",
            "136/136 [==============================] - 39s 289ms/step - loss: 0.5263 - accuracy: 0.7899 - val_loss: 0.7239 - val_accuracy: 0.7677\n",
            "Epoch 6/20\n",
            "136/136 [==============================] - 40s 293ms/step - loss: 0.4315 - accuracy: 0.8284 - val_loss: 0.7705 - val_accuracy: 0.7273\n",
            "Epoch 7/20\n",
            "136/136 [==============================] - 42s 310ms/step - loss: 0.4615 - accuracy: 0.8358 - val_loss: 0.7292 - val_accuracy: 0.7727\n",
            "Epoch 8/20\n",
            "136/136 [==============================] - 40s 293ms/step - loss: 0.5197 - accuracy: 0.7855 - val_loss: 0.6422 - val_accuracy: 0.7828\n",
            "Epoch 9/20\n",
            "136/136 [==============================] - 43s 320ms/step - loss: 0.4020 - accuracy: 0.8476 - val_loss: 0.7871 - val_accuracy: 0.7374\n",
            "Epoch 10/20\n",
            "136/136 [==============================] - 41s 305ms/step - loss: 0.3285 - accuracy: 0.8728 - val_loss: 0.8407 - val_accuracy: 0.7475\n",
            "Epoch 11/20\n",
            "136/136 [==============================] - 40s 298ms/step - loss: 0.2947 - accuracy: 0.8846 - val_loss: 0.7764 - val_accuracy: 0.7828\n",
            "Epoch 12/20\n",
            "136/136 [==============================] - 40s 295ms/step - loss: 0.2719 - accuracy: 0.9053 - val_loss: 0.8091 - val_accuracy: 0.7929\n",
            "Epoch 13/20\n",
            "136/136 [==============================] - 42s 307ms/step - loss: 0.2968 - accuracy: 0.8831 - val_loss: 0.7864 - val_accuracy: 0.7626\n",
            "Epoch 14/20\n",
            "136/136 [==============================] - 40s 292ms/step - loss: 0.2226 - accuracy: 0.9201 - val_loss: 0.7540 - val_accuracy: 0.8283\n",
            "Epoch 15/20\n",
            "136/136 [==============================] - 41s 305ms/step - loss: 0.2488 - accuracy: 0.9157 - val_loss: 0.8339 - val_accuracy: 0.7727\n",
            "Epoch 16/20\n",
            "136/136 [==============================] - 42s 308ms/step - loss: 0.2126 - accuracy: 0.9172 - val_loss: 0.9332 - val_accuracy: 0.7828\n",
            "Epoch 17/20\n",
            "136/136 [==============================] - 40s 297ms/step - loss: 0.2474 - accuracy: 0.9098 - val_loss: 0.9087 - val_accuracy: 0.7778\n",
            "Epoch 18/20\n",
            "136/136 [==============================] - 40s 292ms/step - loss: 0.1564 - accuracy: 0.9482 - val_loss: 1.0889 - val_accuracy: 0.7727\n",
            "Epoch 19/20\n",
            "136/136 [==============================] - 42s 310ms/step - loss: 0.1585 - accuracy: 0.9423 - val_loss: 1.1807 - val_accuracy: 0.7626\n",
            "Epoch 20/20\n",
            "136/136 [==============================] - 39s 284ms/step - loss: 0.2140 - accuracy: 0.9231 - val_loss: 1.0022 - val_accuracy: 0.7929\n"
          ]
        },
        {
          "output_type": "execute_result",
          "data": {
            "text/plain": [
              "<keras.callbacks.History at 0x7f2c78c23390>"
            ]
          },
          "metadata": {},
          "execution_count": 11
        }
      ]
    },
    {
      "cell_type": "code",
      "source": [
        "# Save the model\n",
        "\n",
        "model.save('disaster.h5')\n",
        "model_json = model.to_json()\n",
        "with open(\"model-bw.json\", \"w\") as json_file:\n",
        "  json_file.write(model_json)"
      ],
      "metadata": {
        "id": "kOkBUXJb0BYX"
      },
      "execution_count": 12,
      "outputs": []
    },
    {
      "cell_type": "code",
      "source": [
        "# Load the saved model\n",
        "\n",
        "from tensorflow.keras.models import load_model\n",
        "from tensorflow.keras.preprocessing import image\n",
        "model = load_model('disaster.h5')"
      ],
      "metadata": {
        "id": "9iGzb_IQ0HqJ"
      },
      "execution_count": 13,
      "outputs": []
    },
    {
      "cell_type": "code",
      "source": [
        "x_train.class_indices"
      ],
      "metadata": {
        "colab": {
          "base_uri": "https://localhost:8080/"
        },
        "id": "D4QlDLWj0NCQ",
        "outputId": "2c4d88a8-d1a0-40bb-86f3-959f9d07ed45"
      },
      "execution_count": 14,
      "outputs": [
        {
          "output_type": "execute_result",
          "data": {
            "text/plain": [
              "{'Cyclone': 0, 'Earthquake': 1, 'Flood': 2, 'Wildfire': 3}"
            ]
          },
          "metadata": {},
          "execution_count": 14
        }
      ]
    },
    {
      "cell_type": "code",
      "source": [
        "# taking image as input\n",
        "\n",
        "img = image.load_img('/content/drive/MyDrive/dataset/test_set/Cyclone/867.jpg',target_size=(64,64))\n",
        "x=image.img_to_array(img)\n",
        "x=np.expand_dims(x,axis=0)\n",
        "index=['Cyclone','Earthquake','Flood','Wildfire']\n",
        "y=np.argmax(model.predict(x),axis=1)\n",
        "print(index[int(y)])"
      ],
      "metadata": {
        "colab": {
          "base_uri": "https://localhost:8080/"
        },
        "id": "CA54IqRn0StX",
        "outputId": "70a3a9bb-4f4f-4d4e-f355-20fad4864723"
      },
      "execution_count": 15,
      "outputs": [
        {
          "output_type": "stream",
          "name": "stdout",
          "text": [
            "1/1 [==============================] - 0s 161ms/step\n",
            "Cyclone\n"
          ]
        }
      ]
    },
    {
      "cell_type": "code",
      "source": [
        "# input 2\n",
        "\n",
        "img = image.load_img('/content/drive/MyDrive/dataset/test_set/Earthquake/1321.jpg',target_size=(64,64))\n",
        "x=image.img_to_array(img)\n",
        "x=np.expand_dims(x,axis=0)\n",
        "index=['Cyclone','Earthquake','Flood','Wildfire']\n",
        "y=np.argmax(model.predict(x),axis=1)\n",
        "print(index[int(y)])"
      ],
      "metadata": {
        "colab": {
          "base_uri": "https://localhost:8080/"
        },
        "id": "MOT3seVG0jfp",
        "outputId": "3e168fb5-7d0b-4b2d-83db-953d4fc4b800"
      },
      "execution_count": 16,
      "outputs": [
        {
          "output_type": "stream",
          "name": "stdout",
          "text": [
            "1/1 [==============================] - 0s 25ms/step\n",
            "Earthquake\n"
          ]
        }
      ]
    },
    {
      "cell_type": "code",
      "source": [
        "img = image.load_img('/content/drive/MyDrive/dataset/test_set/Wildfire/1035.jpg',target_size=(64,64))\n",
        "x=image.img_to_array(img)\n",
        "x=np.expand_dims(x,axis=0)\n",
        "index=['Cyclone','Earthquake','Flood','Wildfire']\n",
        "y=np.argmax(model.predict(x),axis=1)\n",
        "print(index[int(y)])"
      ],
      "metadata": {
        "colab": {
          "base_uri": "https://localhost:8080/"
        },
        "id": "HU6XsN8J2M4-",
        "outputId": "fdffbc65-5396-4ec6-9d4c-0f85c8270275"
      },
      "execution_count": 19,
      "outputs": [
        {
          "output_type": "stream",
          "name": "stdout",
          "text": [
            "1/1 [==============================] - 0s 32ms/step\n",
            "Wildfire\n"
          ]
        }
      ]
    },
    {
      "cell_type": "code",
      "source": [
        "img = image.load_img('/content/drive/MyDrive/dataset/test_set/Flood/997.jpg',target_size=(64,64))\n",
        "x=image.img_to_array(img)\n",
        "x=np.expand_dims(x,axis=0)\n",
        "index=['Cyclone','Earthquake','Flood','Wildfire']\n",
        "y=np.argmax(model.predict(x),axis=1)\n",
        "print(index[int(y)])"
      ],
      "metadata": {
        "colab": {
          "base_uri": "https://localhost:8080/"
        },
        "id": "BzHEczCg2oIA",
        "outputId": "6588f460-d1dc-4299-dfe6-11bdc0e55e0b"
      },
      "execution_count": 21,
      "outputs": [
        {
          "output_type": "stream",
          "name": "stdout",
          "text": [
            "1/1 [==============================] - 0s 20ms/step\n",
            "Flood\n"
          ]
        }
      ]
    }
  ]
}